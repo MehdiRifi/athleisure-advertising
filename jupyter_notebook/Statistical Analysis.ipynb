{
 "cells": [
  {
   "cell_type": "markdown",
   "metadata": {},
   "source": [
    "# Statisitical Analysis"
   ]
  },
  {
   "cell_type": "markdown",
   "metadata": {},
   "source": [
    "___"
   ]
  },
  {
   "cell_type": "markdown",
   "metadata": {},
   "source": [
    "### Table Of Contents"
   ]
  },
  {
   "cell_type": "markdown",
   "metadata": {},
   "source": [
    "1. ???\n",
    "2. ???\n",
    "3. ???\n",
    "4. ???\n",
    "5. ???\n",
    "6. ???\n",
    "7. ???\n",
    "8. ???\n",
    "9. ???\n",
    "10. ???"
   ]
  },
  {
   "cell_type": "markdown",
   "metadata": {},
   "source": [
    "___"
   ]
  },
  {
   "cell_type": "markdown",
   "metadata": {},
   "source": [
    "### 1. Import libraries as needed"
   ]
  },
  {
   "cell_type": "code",
   "execution_count": 1,
   "metadata": {},
   "outputs": [],
   "source": [
    "import pandas as pd\n",
    "import statsmodels.api as sm\n",
    "from statsmodels.formula.api import ols\n",
    "import scipy.stats as stats"
   ]
  },
  {
   "cell_type": "markdown",
   "metadata": {},
   "source": [
    "___"
   ]
  },
  {
   "cell_type": "markdown",
   "metadata": {},
   "source": [
    "### 2. Expand maximum range of rows"
   ]
  },
  {
   "cell_type": "markdown",
   "metadata": {},
   "source": [
    "May be a good idea to expand the maximum range of rows to view in your Pandas dataframes.<br>\n",
    "Use <b>pd.set_option()</b>"
   ]
  },
  {
   "cell_type": "code",
   "execution_count": null,
   "metadata": {},
   "outputs": [],
   "source": [
    "pd.set_option('display.max_rows', 1000)\n",
    "pd.set_option('display.max_columns', 1000)\n",
    "pd.set_option('display.width', 1000)"
   ]
  },
  {
   "cell_type": "markdown",
   "metadata": {},
   "source": [
    "### 3. Import athleisure dataset"
   ]
  },
  {
   "cell_type": "code",
   "execution_count": 2,
   "metadata": {
    "scrolled": true
   },
   "outputs": [
    {
     "data": {
      "text/html": [
       "<div>\n",
       "<style scoped>\n",
       "    .dataframe tbody tr th:only-of-type {\n",
       "        vertical-align: middle;\n",
       "    }\n",
       "\n",
       "    .dataframe tbody tr th {\n",
       "        vertical-align: top;\n",
       "    }\n",
       "\n",
       "    .dataframe thead th {\n",
       "        text-align: right;\n",
       "    }\n",
       "</style>\n",
       "<table border=\"1\" class=\"dataframe\">\n",
       "  <thead>\n",
       "    <tr style=\"text-align: right;\">\n",
       "      <th></th>\n",
       "      <th>Unnamed: 0</th>\n",
       "      <th>keyword</th>\n",
       "      <th>volume</th>\n",
       "      <th>year</th>\n",
       "      <th>month</th>\n",
       "      <th>engine</th>\n",
       "      <th>total_volume_for_last_12_months</th>\n",
       "      <th>avg_volume_for_last_12_months</th>\n",
       "      <th>total_months_seen</th>\n",
       "    </tr>\n",
       "  </thead>\n",
       "  <tbody>\n",
       "    <tr>\n",
       "      <td>0</td>\n",
       "      <td>0</td>\n",
       "      <td>yoga pants</td>\n",
       "      <td>0</td>\n",
       "      <td>2018</td>\n",
       "      <td>6</td>\n",
       "      <td>google</td>\n",
       "      <td>779</td>\n",
       "      <td>65</td>\n",
       "      <td>12</td>\n",
       "    </tr>\n",
       "    <tr>\n",
       "      <td>1</td>\n",
       "      <td>1</td>\n",
       "      <td>yoga pants</td>\n",
       "      <td>68</td>\n",
       "      <td>2018</td>\n",
       "      <td>7</td>\n",
       "      <td>google</td>\n",
       "      <td>779</td>\n",
       "      <td>65</td>\n",
       "      <td>12</td>\n",
       "    </tr>\n",
       "    <tr>\n",
       "      <td>2</td>\n",
       "      <td>2</td>\n",
       "      <td>yoga pants</td>\n",
       "      <td>107</td>\n",
       "      <td>2018</td>\n",
       "      <td>8</td>\n",
       "      <td>google</td>\n",
       "      <td>779</td>\n",
       "      <td>65</td>\n",
       "      <td>12</td>\n",
       "    </tr>\n",
       "    <tr>\n",
       "      <td>3</td>\n",
       "      <td>3</td>\n",
       "      <td>yoga pants</td>\n",
       "      <td>63</td>\n",
       "      <td>2018</td>\n",
       "      <td>9</td>\n",
       "      <td>google</td>\n",
       "      <td>779</td>\n",
       "      <td>65</td>\n",
       "      <td>12</td>\n",
       "    </tr>\n",
       "    <tr>\n",
       "      <td>4</td>\n",
       "      <td>4</td>\n",
       "      <td>yoga pants</td>\n",
       "      <td>72</td>\n",
       "      <td>2018</td>\n",
       "      <td>10</td>\n",
       "      <td>google</td>\n",
       "      <td>779</td>\n",
       "      <td>65</td>\n",
       "      <td>12</td>\n",
       "    </tr>\n",
       "  </tbody>\n",
       "</table>\n",
       "</div>"
      ],
      "text/plain": [
       "   Unnamed: 0     keyword  volume  year  month  engine  \\\n",
       "0           0  yoga pants       0  2018      6  google   \n",
       "1           1  yoga pants      68  2018      7  google   \n",
       "2           2  yoga pants     107  2018      8  google   \n",
       "3           3  yoga pants      63  2018      9  google   \n",
       "4           4  yoga pants      72  2018     10  google   \n",
       "\n",
       "   total_volume_for_last_12_months  avg_volume_for_last_12_months  \\\n",
       "0                              779                             65   \n",
       "1                              779                             65   \n",
       "2                              779                             65   \n",
       "3                              779                             65   \n",
       "4                              779                             65   \n",
       "\n",
       "   total_months_seen  \n",
       "0                 12  \n",
       "1                 12  \n",
       "2                 12  \n",
       "3                 12  \n",
       "4                 12  "
      ]
     },
     "execution_count": 2,
     "metadata": {},
     "output_type": "execute_result"
    }
   ],
   "source": [
    "df = pd.read_csv(\"/Users/alexandercheng/Desktop/code/projects/athleisure-ads-strategy/data/athleisure.csv\")\n",
    "df.head()"
   ]
  },
  {
   "cell_type": "markdown",
   "metadata": {},
   "source": [
    "___"
   ]
  },
  {
   "cell_type": "markdown",
   "metadata": {},
   "source": [
    "### 4. Get ANOVA table"
   ]
  },
  {
   "cell_type": "markdown",
   "metadata": {},
   "source": [
    "https://reneshbedre.github.io/blog/anova.html"
   ]
  },
  {
   "cell_type": "code",
   "execution_count": null,
   "metadata": {},
   "outputs": [],
   "source": [
    "# stats f_oneway functions takes the groups as input and returns F and P-value\n",
    "fvalue, pvalue = stats.f_oneway(d['A'], d['B'], d['C'], d['D'])\n",
    "print(fvalue, pvalue)\n",
    "# 17.492810457516338 2.639241146210922e-05\n",
    "\n",
    "# reshape the d dataframe suitable for statsmodels package \n",
    "d_melt = pd.melt(d.reset_index(), id_vars=['index'], value_vars=['A', 'B', 'C', 'D'])\n",
    "\n",
    "# replace column names\n",
    "d_melt.columns = ['index', 'treatments', 'value']\n",
    "\n",
    "# Ordinary Least Squares (OLS) model\n",
    "model = ols('value ~ C(treatments)', data=d_melt).fit()\n",
    "anova_table = sm.stats.anova_lm(model, typ=2)\n",
    "anova_table"
   ]
  },
  {
   "cell_type": "markdown",
   "metadata": {},
   "source": [
    "___"
   ]
  },
  {
   "cell_type": "markdown",
   "metadata": {},
   "source": [
    "### 5. Tukey Test"
   ]
  },
  {
   "cell_type": "markdown",
   "metadata": {},
   "source": [
    "https://reneshbedre.github.io/blog/anova.html"
   ]
  },
  {
   "cell_type": "code",
   "execution_count": null,
   "metadata": {},
   "outputs": [],
   "source": [
    "# load packages\n",
    "from statsmodels.stats.multicomp import pairwise_tukeyhsd\n",
    "# perform multiple pairwise comparison (Tukey HSD)\n",
    "m_comp = pairwise_tukeyhsd(endog=d_melt['value'], groups=d_melt['treatments'], alpha=0.05)\n",
    "print(m_comp_res)"
   ]
  }
 ],
 "metadata": {
  "kernelspec": {
   "display_name": "Python 3",
   "language": "python",
   "name": "python3"
  },
  "language_info": {
   "codemirror_mode": {
    "name": "ipython",
    "version": 3
   },
   "file_extension": ".py",
   "mimetype": "text/x-python",
   "name": "python",
   "nbconvert_exporter": "python",
   "pygments_lexer": "ipython3",
   "version": "3.7.4"
  }
 },
 "nbformat": 4,
 "nbformat_minor": 2
}
